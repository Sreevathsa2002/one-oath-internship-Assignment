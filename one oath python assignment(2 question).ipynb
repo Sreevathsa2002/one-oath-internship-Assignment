{
 "cells": [
  {
   "cell_type": "code",
   "execution_count": 2,
   "id": "1b911702",
   "metadata": {},
   "outputs": [
    {
     "name": "stdout",
     "output_type": "stream",
     "text": [
      "The Top 5 frequent words are:\n",
      "and-37\n",
      "the-22\n",
      "of-20\n",
      "to-19\n",
      "in-14\n"
     ]
    }
   ],
   "source": [
    "\n",
    "paragraph=open(\"C:\\\\Users\\\\LENOVO\\\\Downloads\\\\paragraph.txt\",\"r\")\n",
    "lo=\"\"\n",
    "for i in paragraph:\n",
    "    lo+=i\n",
    "paragraph_list=lo.split(\" \")\n",
    "punc = list('''!()-[]{};:'\"\\,<>./?@#$%^&*_~.\"''')\n",
    "for i in paragraph_list:\n",
    "    for j in i:\n",
    "        if j in punc:\n",
    "            i=i.replace(j,\"\")\n",
    "second=[]\n",
    "for i in paragraph_list:\n",
    "    second.append(i.lower())\n",
    "dict1={}\n",
    "for i in second:\n",
    "    if i in dict1:\n",
    "        dict1[i]+=1\n",
    "    else:\n",
    "        dict1[i]=1\n",
    "sorted_list=sorted(dict1,key=dict1.get,reverse=True)\n",
    "print(\"The Top 5 frequent words are:\")\n",
    "for i in range(5):\n",
    "    print(\"{}-{}\".format(sorted_list[i],dict1[sorted_list[i]]))\n"
   ]
  },
  {
   "cell_type": "code",
   "execution_count": 3,
   "id": "89fa658f",
   "metadata": {},
   "outputs": [],
   "source": [
    "positive=open(\"E:\\\\one oath internship\\\\positive-words.txt\")\n",
    "positive_string=\"\"\n",
    "for i in positive:\n",
    "    positive_string+=i\n",
    "positive_list=positive_string.split('\\n')\n",
    "negative=open(\"E:\\\\one oath internship\\\\negative-words.txt\")\n",
    "negative_string=\"\"\n",
    "for i in negative:\n",
    "    negative_string+=i\n",
    "negative_list=negative_string.split('\\n')"
   ]
  },
  {
   "cell_type": "code",
   "execution_count": 4,
   "id": "f45f2f59",
   "metadata": {},
   "outputs": [
    {
     "name": "stdout",
     "output_type": "stream",
     "text": [
      "polarity score is 0.7894736426592819\n"
     ]
    }
   ],
   "source": [
    "positive_score=0\n",
    "negative_score=0\n",
    "for i in dict1:\n",
    "    if i in positive_list:\n",
    "        positive_score+=1\n",
    "    if i in negative_list:\n",
    "        negative_score-=1\n",
    "negative_score=negative_score*(-1)\n",
    "polarity_score=(positive_score - negative_score)/((positive_score+negative_score)+0.000001)\n",
    "print(\"polarity score is {}\".format(polarity_score))"
   ]
  },
  {
   "cell_type": "code",
   "execution_count": 5,
   "id": "0e9a0ab4",
   "metadata": {},
   "outputs": [
    {
     "name": "stdout",
     "output_type": "stream",
     "text": [
      "Total Number of lines: 28\n"
     ]
    }
   ],
   "source": [
    "with open(\"C:\\\\Users\\\\LENOVO\\\\Downloads\\\\paragraph.txt\",'r') as fp:\n",
    "    lines=len(fp.readlines())\n",
    "    print('Total Number of lines:',lines)"
   ]
  },
  {
   "cell_type": "code",
   "execution_count": 7,
   "id": "50b91cd8",
   "metadata": {},
   "outputs": [
    {
     "name": "stdout",
     "output_type": "stream",
     "text": [
      "Average sentence lenth: 12.642857142857142\n"
     ]
    }
   ],
   "source": [
    "Average_sentence_length=(len(dict1))/lines\n",
    "print(\"Average sentence lenth: {}\".format(Average_sentence_length))"
   ]
  },
  {
   "cell_type": "code",
   "execution_count": null,
   "id": "df1ad064",
   "metadata": {},
   "outputs": [],
   "source": []
  }
 ],
 "metadata": {
  "kernelspec": {
   "display_name": "Python 3 (ipykernel)",
   "language": "python",
   "name": "python3"
  },
  "language_info": {
   "codemirror_mode": {
    "name": "ipython",
    "version": 3
   },
   "file_extension": ".py",
   "mimetype": "text/x-python",
   "name": "python",
   "nbconvert_exporter": "python",
   "pygments_lexer": "ipython3",
   "version": "3.9.7"
  }
 },
 "nbformat": 4,
 "nbformat_minor": 5
}
